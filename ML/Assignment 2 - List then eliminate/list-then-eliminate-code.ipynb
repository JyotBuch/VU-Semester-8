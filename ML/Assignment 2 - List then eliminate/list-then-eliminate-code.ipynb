{
 "cells": [
  {
   "attachments": {},
   "cell_type": "markdown",
   "metadata": {},
   "source": [
    "<center>Assignment 2c - List then Eliminate</center>\n",
    "\n",
    "Name - Jyot Buch\n",
    "\n",
    "Class - A\n",
    "\n",
    "Roll No. - 09"
   ]
  },
  {
   "cell_type": "code",
   "execution_count": 2,
   "metadata": {},
   "outputs": [],
   "source": [
    "def list_then_eliminate(examples, target_attribute):\n",
    "    # Initialize the list of remaining attributes\n",
    "    attributes = set(examples[0].keys())\n",
    "    attributes.remove(target_attribute)\n",
    "    \n",
    "    # Initialize the concept as the empty dictionary\n",
    "    concept = {}\n",
    "    \n",
    "    # Loop until there are no remaining attributes or all examples have been eliminated\n",
    "    while attributes and examples:\n",
    "        # Find the most common value of the target attribute\n",
    "        target_values = [example[target_attribute] for example in examples]\n",
    "        most_common_target_value = max(set(target_values), key=target_values.count)\n",
    "        \n",
    "        # Find the most common value for each remaining attribute\n",
    "        attribute_values = {}\n",
    "        for attribute in attributes:\n",
    "            attribute_values[attribute] = [example[attribute] for example in examples if example[target_attribute] == most_common_target_value]\n",
    "            if not attribute_values[attribute]:\n",
    "                # If there are no examples with the most common target value for this attribute, eliminate this attribute\n",
    "                attributes.remove(attribute)\n",
    "            else:\n",
    "                # Find the most common value for this attribute\n",
    "                most_common_attribute_value = max(set(attribute_values[attribute]), key=attribute_values[attribute].count)\n",
    "                # Update the concept with this attribute-value pair\n",
    "                concept[attribute] = most_common_attribute_value\n",
    "        \n",
    "        # Eliminate all examples that do not match the updated concept\n",
    "        examples = [example for example in examples if all(example[attribute] == concept[attribute] for attribute in concept)]\n",
    "    \n",
    "    return concept\n"
   ]
  },
  {
   "cell_type": "code",
   "execution_count": 7,
   "metadata": {},
   "outputs": [
    {
     "name": "stdout",
     "output_type": "stream",
     "text": [
      "{'temperature': 'mild', 'outlook': 'overcast', 'windy': 'false', 'humidity': 'normal'}\n"
     ]
    }
   ],
   "source": [
    "# Define some examples\n",
    "example_1 = [\n",
    "    {'outlook': 'sunny', 'temperature': 'hot', 'humidity': 'high', 'windy': 'false', 'play': 'no'},\n",
    "    {'outlook': 'sunny', 'temperature': 'hot', 'humidity': 'high', 'windy': 'true', 'play': 'no'},\n",
    "    {'outlook': 'overcast', 'temperature': 'hot', 'humidity': 'high', 'windy': 'false', 'play': 'yes'},\n",
    "    {'outlook': 'rainy', 'temperature': 'mild', 'humidity': 'high', 'windy': 'false', 'play': 'yes'},\n",
    "    {'outlook': 'rainy', 'temperature': 'cool', 'humidity': 'normal', 'windy': 'false', 'play': 'yes'},\n",
    "    {'outlook': 'rainy', 'temperature': 'cool', 'humidity': 'normal', 'windy': 'true', 'play': 'no'},\n",
    "    {'outlook': 'overcast', 'temperature': 'cool', 'humidity': 'normal', 'windy': 'true', 'play': 'yes'},\n",
    "    {'outlook': 'sunny', 'temperature': 'mild', 'humidity': 'high', 'windy': 'false', 'play': 'no'},\n",
    "    {'outlook': 'sunny', 'temperature': 'cool', 'humidity': 'normal', 'windy': 'false', 'play': 'yes'},\n",
    "    {'outlook': 'rainy', 'temperature': 'mild', 'humidity': 'normal', 'windy': 'false', 'play': 'yes'},\n",
    "    {'outlook': 'sunny', 'temperature': 'mild', 'humidity': 'normal', 'windy': 'true', 'play': 'yes'},\n",
    "    {'outlook': 'overcast', 'temperature': 'mild', 'humidity': 'high', 'windy': 'true', 'play': 'yes'},\n",
    "    {'outlook': 'overcast', 'temperature': 'hot', 'humidity': 'normal', 'windy': 'false', 'play': 'yes'},\n",
    "    {'outlook': 'rainy', 'temperature': 'mild', 'humidity': 'high', 'windy': 'true', 'play': 'no'}\n",
    "]\n",
    "\n",
    "example_2 = [\n",
    "  {'age': 23, 'income': 60000, 'credit_rating': 'good', 'buys': 'yes'},\n",
    "  {'age': 32, 'income': 90000, 'credit_rating': 'excellent', 'buys': 'yes'},\n",
    "  {'age': 25, 'income': 70000, 'credit_rating': 'fair', 'buys': 'yes'},\n",
    "  {'age': 33, 'income': 80000, 'credit_rating': 'fair', 'buys': 'no'},\n",
    "  {'age': 30, 'income': 50000, 'credit_rating': 'fair', 'buys': 'yes'},\n",
    "  {'age': 31, 'income': 68000, 'credit_rating': 'good', 'buys': 'no'},\n",
    "  {'age': 35, 'income': 75000, 'credit_rating': 'excellent', 'buys': 'yes'},\n",
    "  {'age': 28, 'income': 62000, 'credit_rating': 'good', 'buys': 'no'},\n",
    "  {'age': 25, 'income': 72000, 'credit_rating': 'fair', 'buys': 'yes'},\n",
    "  {'age': 27, 'income': 80000, 'credit_rating': 'excellent', 'buys': 'yes'},\n",
    "  {'age': 35, 'income': 68000, 'credit_rating': 'excellent', 'buys': 'no'}\n",
    "]\n",
    "\n",
    "\n",
    "\n",
    "# Apply the List-Then-Eliminate algorithm to learn the concept for the 'play' attribute\n",
    "learned_concept = list_then_eliminate(example_1, 'play')\n",
    "\n",
    "# Output the learned concept\n",
    "print(learned_concept)\n"
   ]
  }
 ],
 "metadata": {
  "kernelspec": {
   "display_name": "home",
   "language": "python",
   "name": "python3"
  },
  "language_info": {
   "codemirror_mode": {
    "name": "ipython",
    "version": 3
   },
   "file_extension": ".py",
   "mimetype": "text/x-python",
   "name": "python",
   "nbconvert_exporter": "python",
   "pygments_lexer": "ipython3",
   "version": "3.8.13"
  },
  "orig_nbformat": 4
 },
 "nbformat": 4,
 "nbformat_minor": 2
}
